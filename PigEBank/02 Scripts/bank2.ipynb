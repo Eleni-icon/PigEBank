{
 "cells": [
  {
   "cell_type": "code",
   "execution_count": 1,
   "id": "ace86445",
   "metadata": {},
   "outputs": [],
   "source": [
    "# Import all libraries\n",
    "\n",
    "import pandas as pd\n",
    "import numpy as np\n",
    "import os\n",
    "import matplotlib.pyplot as plt\n",
    "import seaborn as sns\n",
    "import scipy"
   ]
  },
  {
   "cell_type": "code",
   "execution_count": 2,
   "id": "a6abde70",
   "metadata": {},
   "outputs": [],
   "source": [
    "# Adjust the path\n",
    "file_path = '/Users/eleni_icon/5.4-PigEBank-Client-Data set.xlsx'\n",
    "data = pd.read_excel(file_path)"
   ]
  },
  {
   "cell_type": "code",
   "execution_count": 3,
   "id": "aa36d25a",
   "metadata": {},
   "outputs": [
    {
     "name": "stdout",
     "output_type": "stream",
     "text": [
      "<class 'pandas.core.frame.DataFrame'>\n",
      "RangeIndex: 991 entries, 0 to 990\n",
      "Data columns (total 14 columns):\n",
      " #   Column            Non-Null Count  Dtype  \n",
      "---  ------            --------------  -----  \n",
      " 0   Row_Number        991 non-null    int64  \n",
      " 1   Customer_ID       991 non-null    int64  \n",
      " 2   Last_Name         990 non-null    object \n",
      " 3   Credit Score      988 non-null    float64\n",
      " 4   Country           991 non-null    object \n",
      " 5   Gender            990 non-null    object \n",
      " 6   Age               990 non-null    float64\n",
      " 7   Tenure            991 non-null    int64  \n",
      " 8   Balance           991 non-null    float64\n",
      " 9   NumOfProducts     991 non-null    int64  \n",
      " 10  HasCrCard?        991 non-null    int64  \n",
      " 11  IsActiveMember    991 non-null    int64  \n",
      " 12  Estimated Salary  989 non-null    float64\n",
      " 13  ExitedFromBank?   991 non-null    int64  \n",
      "dtypes: float64(4), int64(7), object(3)\n",
      "memory usage: 108.5+ KB\n",
      "None\n",
      "   Row_Number  Customer_ID Last_Name  Credit Score Country  Gender   Age  \\\n",
      "0           1     15634602  Hargrave         619.0  France  Female  42.0   \n",
      "1           2     15647311      Hill         608.0   Spain  Female  41.0   \n",
      "2           3     15619304      Onio         502.0  France  Female  42.0   \n",
      "3           4     15701354      Boni         699.0  France  Female  39.0   \n",
      "4           5     15737888  Mitchell         850.0   Spain  Female  43.0   \n",
      "\n",
      "   Tenure    Balance  NumOfProducts  HasCrCard?  IsActiveMember  \\\n",
      "0       2       0.00              1           1               1   \n",
      "1       1   83807.86              1           0               1   \n",
      "2       8  159660.80              3           1               0   \n",
      "3       1       0.00              2           0               0   \n",
      "4       2  125510.82              1           1               1   \n",
      "\n",
      "   Estimated Salary  ExitedFromBank?  \n",
      "0         101348.88                1  \n",
      "1         112542.58                0  \n",
      "2         113931.57                1  \n",
      "3          93826.63                0  \n",
      "4          79084.10                0  \n"
     ]
    }
   ],
   "source": [
    "# Display basic information and the first few rows to understand the structure and content\n",
    "print(data.info())\n",
    "print(data.head())"
   ]
  },
  {
   "cell_type": "code",
   "execution_count": 5,
   "id": "3a852bc5",
   "metadata": {},
   "outputs": [
    {
     "name": "stdout",
     "output_type": "stream",
     "text": [
      "Data cleaning completed.\n"
     ]
    }
   ],
   "source": [
    "# Cleaning the data\n",
    "# Addressing missing values and making corrections in the data\n",
    "data['Last_Name'] = data['Last_Name'].fillna('Unknown')\n",
    "data['Credit Score'] = data['Credit Score'].fillna(data['Credit Score'].median())\n",
    "data['Gender'] = data['Gender'].replace({'F': 'Female', 'M': 'Male', 'f': 'Female', 'm': 'Male'}).fillna(data['Gender'].mode()[0])\n",
    "data['Age'] = data['Age'].fillna(data['Age'].median())\n",
    "data['Country'] = data['Country'].replace({'DE': 'Germany', 'FR': 'France', 'ES': 'Spain'})\n",
    "data['Estimated Salary'] = data['Estimated Salary'].fillna(data['Estimated Salary'].median())\n",
    "print(\"Data cleaning completed.\")"
   ]
  },
  {
   "cell_type": "code",
   "execution_count": 6,
   "id": "c1e57101",
   "metadata": {},
   "outputs": [
    {
     "name": "stdout",
     "output_type": "stream",
     "text": [
      "Row_Number          0\n",
      "Customer_ID         0\n",
      "Last_Name           0\n",
      "Credit Score        0\n",
      "Country             0\n",
      "Gender              0\n",
      "Age                 0\n",
      "Tenure              0\n",
      "Balance             0\n",
      "NumOfProducts       0\n",
      "HasCrCard?          0\n",
      "IsActiveMember      0\n",
      "Estimated Salary    0\n",
      "ExitedFromBank?     0\n",
      "dtype: int64\n"
     ]
    }
   ],
   "source": [
    "# Check for any remaining missing values\n",
    "print(data.isnull().sum())"
   ]
  },
  {
   "cell_type": "code",
   "execution_count": 7,
   "id": "61a2a2aa",
   "metadata": {},
   "outputs": [],
   "source": [
    "# Splitting the dataset into two groups: those who have left the bank and those who have stayed\n",
    "left_bank = data[data['ExitedFromBank?'] == 1]\n",
    "stayed_bank = data[data['ExitedFromBank?'] == 0]"
   ]
  },
  {
   "cell_type": "code",
   "execution_count": 8,
   "id": "dc5a9b98",
   "metadata": {},
   "outputs": [
    {
     "name": "stdout",
     "output_type": "stream",
     "text": [
      "Descriptive statistics for clients who have left the bank:        Row_Number   Customer_ID  Credit Score         Age      Tenure  \\\n",
      "count  204.000000  2.040000e+02    204.000000  204.000000  204.000000   \n",
      "mean   493.808824  1.569122e+07    636.595588   45.024510    4.715686   \n",
      "std    291.185885  7.292957e+04     99.632573   10.017442    2.915484   \n",
      "min      1.000000  1.556875e+07    376.000000    2.000000    0.000000   \n",
      "25%    228.750000  1.562854e+07    562.750000   39.000000    2.000000   \n",
      "50%    501.500000  1.569331e+07    643.500000   45.000000    5.000000   \n",
      "75%    748.500000  1.575380e+07    714.250000   51.000000    7.000000   \n",
      "max    990.000000  1.581176e+07    850.000000   69.000000   10.000000   \n",
      "\n",
      "             Balance  NumOfProducts  HasCrCard?  IsActiveMember  \\\n",
      "count     204.000000     204.000000  204.000000      204.000000   \n",
      "mean    90239.218873       1.460784    0.705882        0.299020   \n",
      "std     61352.066625       0.764632    0.456766        0.458955   \n",
      "min         0.000000       1.000000    0.000000        0.000000   \n",
      "25%         0.000000       1.000000    0.000000        0.000000   \n",
      "50%    112433.965000       1.000000    1.000000        0.000000   \n",
      "75%    133713.527500       2.000000    1.000000        1.000000   \n",
      "max    213146.200000       4.000000    1.000000        1.000000   \n",
      "\n",
      "       Estimated Salary  ExitedFromBank?  \n",
      "count        204.000000            204.0  \n",
      "mean       97155.204608              1.0  \n",
      "std        59537.153259              0.0  \n",
      "min          417.410000              1.0  \n",
      "25%        44685.167500              1.0  \n",
      "50%       100375.400000              1.0  \n",
      "75%       148291.382500              1.0  \n",
      "max       199725.390000              1.0  \n",
      "Descriptive statistics for clients who have stayed:        Row_Number   Customer_ID  Credit Score         Age      Tenure  \\\n",
      "count  787.000000  7.870000e+02    787.000000  787.000000  787.000000   \n",
      "mean   496.567980  1.569260e+07    651.620076   37.039390    5.157560   \n",
      "std    285.105211  7.209575e+04     97.466801   10.584915    2.926683   \n",
      "min      2.000000  1.556609e+07    411.000000    2.000000    0.000000   \n",
      "25%    255.500000  1.563130e+07    583.000000   31.000000    3.000000   \n",
      "50%    493.000000  1.569267e+07    657.000000   36.000000    5.000000   \n",
      "75%    742.500000  1.575379e+07    722.500000   41.500000    8.000000   \n",
      "max    991.000000  1.581536e+07    850.000000   82.000000   10.000000   \n",
      "\n",
      "             Balance  NumOfProducts  HasCrCard?  IsActiveMember  \\\n",
      "count     787.000000     787.000000  787.000000      787.000000   \n",
      "mean    74830.867789       1.538755    0.706480        0.561626   \n",
      "std     62819.020794       0.511407    0.455664        0.496503   \n",
      "min         0.000000       1.000000    0.000000        0.000000   \n",
      "25%         0.000000       1.000000    0.000000        0.000000   \n",
      "50%     93147.000000       2.000000    1.000000        1.000000   \n",
      "75%    127817.875000       2.000000    1.000000        1.000000   \n",
      "max    197041.800000       3.000000    1.000000        1.000000   \n",
      "\n",
      "       Estimated Salary  ExitedFromBank?  \n",
      "count        787.000000            787.0  \n",
      "mean       98941.928564              0.0  \n",
      "std        56569.515348              0.0  \n",
      "min          371.050000              0.0  \n",
      "25%        51252.645000              0.0  \n",
      "50%        98368.240000              0.0  \n",
      "75%       145915.590000              0.0  \n",
      "max       199661.500000              0.0  \n"
     ]
    }
   ],
   "source": [
    "# Calculating descriptive statistics for both groups\n",
    "stats_left = left_bank.describe()\n",
    "stats_stayed = stayed_bank.describe()\n",
    "print(\"Descriptive statistics for clients who have left the bank:\", stats_left)\n",
    "print(\"Descriptive statistics for clients who have stayed:\", stats_stayed)"
   ]
  },
  {
   "cell_type": "code",
   "execution_count": 9,
   "id": "37e5928d",
   "metadata": {},
   "outputs": [
    {
     "name": "stdout",
     "output_type": "stream",
     "text": [
      "Pivot table results:\n",
      "Age:                       Age\n",
      "ExitedFromBank?          \n",
      "0                37.03939\n",
      "1                45.02451\n",
      "Balance:                       Balance\n",
      "ExitedFromBank?              \n",
      "0                74830.867789\n",
      "1                90239.218873\n",
      "Credit Score:                  Credit Score\n",
      "ExitedFromBank?              \n",
      "0                  651.620076\n",
      "1                  636.595588\n",
      "Number of Products:                  NumOfProducts\n",
      "ExitedFromBank?               \n",
      "0                     1.538755\n",
      "1                     1.460784\n",
      "Active Membership:                  IsActiveMember\n",
      "ExitedFromBank?                \n",
      "0                      0.561626\n",
      "1                      0.299020\n",
      "Estimated Salary:                  Estimated Salary\n",
      "ExitedFromBank?                  \n",
      "0                    98941.928564\n",
      "1                    97155.204608\n"
     ]
    }
   ],
   "source": [
    "# Creating pivot tables to analyze factors contributing to customers leaving\n",
    "pivot_age = pd.pivot_table(data, values='Age', index='ExitedFromBank?', aggfunc='mean')\n",
    "pivot_balance = pd.pivot_table(data, values='Balance', index='ExitedFromBank?', aggfunc='mean')\n",
    "pivot_credit_score = pd.pivot_table(data, values='Credit Score', index='ExitedFromBank?', aggfunc='mean')\n",
    "pivot_products = pd.pivot_table(data, values='NumOfProducts', index='ExitedFromBank?', aggfunc='mean')\n",
    "pivot_active = pd.pivot_table(data, values='IsActiveMember', index='ExitedFromBank?', aggfunc='mean')\n",
    "pivot_salary = pd.pivot_table(data, values='Estimated Salary', index='ExitedFromBank?', aggfunc='mean')\n",
    "\n",
    "print(\"Pivot table results:\")\n",
    "print(\"Age:\", pivot_age)\n",
    "print(\"Balance:\", pivot_balance)\n",
    "print(\"Credit Score:\", pivot_credit_score)\n",
    "print(\"Number of Products:\", pivot_products)\n",
    "print(\"Active Membership:\", pivot_active)\n",
    "print(\"Estimated Salary:\", pivot_salary)\n"
   ]
  },
  {
   "cell_type": "markdown",
   "id": "829150e2",
   "metadata": {},
   "source": [
    "# Commentary on findings\n",
    "\n",
    "Analysis Findings and Recommendations:\n",
    "- Clients who have left the bank tend to be older, have higher balances but lower credit scores, and fewer products.\n",
    "- The pivotal age group leading to higher churn is those over 45 years.\n",
    "- Active membership status is crucial; less active members are more likely to leave."
   ]
  },
  {
   "cell_type": "markdown",
   "id": "d81738bb",
   "metadata": {},
   "source": [
    "# Based on these insights:\n",
    "\n",
    "- The bank should consider enhancing product offerings and engagement strategies for older demographics.\n",
    "- Introduce loyalty and retention programs that focus on increasing product holdings and improving credit management advice.\n",
    "- Continuous monitoring and adaptation of strategies based on evolving customer feedback and further data analysis are recommended.\n"
   ]
  },
  {
   "cell_type": "code",
   "execution_count": 10,
   "id": "7045775b",
   "metadata": {},
   "outputs": [],
   "source": [
    "# Save to Excel\n",
    "data.to_excel('cleaned_client_data.xlsx', index=False)"
   ]
  },
  {
   "cell_type": "code",
   "execution_count": null,
   "id": "e36d514d",
   "metadata": {},
   "outputs": [],
   "source": []
  }
 ],
 "metadata": {
  "kernelspec": {
   "display_name": "Python (notebook)",
   "language": "python",
   "name": "notebook"
  },
  "language_info": {
   "codemirror_mode": {
    "name": "ipython",
    "version": 3
   },
   "file_extension": ".py",
   "mimetype": "text/x-python",
   "name": "python",
   "nbconvert_exporter": "python",
   "pygments_lexer": "ipython3",
   "version": "3.11.9"
  }
 },
 "nbformat": 4,
 "nbformat_minor": 5
}
